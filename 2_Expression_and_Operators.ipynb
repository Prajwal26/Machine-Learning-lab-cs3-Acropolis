{
  "nbformat": 4,
  "nbformat_minor": 0,
  "metadata": {
    "kernelspec": {
      "name": "python3",
      "display_name": "Python 3",
      "language": "python"
    },
    "language_info": {
      "mimetype": "text/x-python",
      "nbconvert_exporter": "python",
      "name": "python",
      "pygments_lexer": "ipython3",
      "version": "3.5.4",
      "file_extension": ".py",
      "codemirror_mode": {
        "version": 3,
        "name": "ipython"
      }
    },
    "colab": {
      "name": "2. Expression and Operators.ipynb",
      "provenance": [],
      "collapsed_sections": []
    }
  },
  "cells": [
    {
      "cell_type": "markdown",
      "metadata": {
        "heading_collapsed": true,
        "id": "n_VDg1RwuChB",
        "colab_type": "text"
      },
      "source": [
        "# Expressions, Operators, Control statements"
      ]
    },
    {
      "cell_type": "code",
      "metadata": {
        "id": "Rc6gK_TEv2QF",
        "colab_type": "code",
        "colab": {}
      },
      "source": [
        ""
      ],
      "execution_count": 0,
      "outputs": []
    },
    {
      "cell_type": "markdown",
      "metadata": {
        "id": "6Cw_bQCzuChF",
        "colab_type": "text"
      },
      "source": [
        "# Operators\n",
        "- Arithmetic (+, -, *, /, //, %)\n",
        "- Relational (<, >, <=, >=, !=, ==)\n",
        "- Shift (>>, <<)\n",
        "- Assignment (=)\n",
        "- Logical (and, or, not)\n",
        "- Bitwise (&, |, !)\n",
        "- 'in' and 'not in' operator\n"
      ]
    },
    {
      "cell_type": "markdown",
      "metadata": {
        "id": "FEu90oEtuChG",
        "colab_type": "raw"
      },
      "source": [
        "# << and >>\n",
        "\n",
        "if n=8 (1000 in binary), n>>1 will give 100 after shifting bits by 1 place to right. \n",
        "                         n<<1 will give 10000 after shifting bits by 1 place to left."
      ]
    },
    {
      "cell_type": "code",
      "metadata": {
        "trusted": false,
        "id": "7v33-5nguChI",
        "colab_type": "code",
        "outputId": "e7ae7996-b8d3-4d31-849e-faa7f10c1ece",
        "colab": {
          "base_uri": "https://localhost:8080/",
          "height": 68
        }
      },
      "source": [
        "n=10\n",
        "print(n,'binary',format(n,'b'))\n",
        "print(n,'* 2=',n<<1, format(n<<1,'b'))\n",
        "print(n,'/ 2=',n>>1,format(n>>1,'b'))"
      ],
      "execution_count": 2,
      "outputs": [
        {
          "output_type": "stream",
          "text": [
            "10 binary 1010\n",
            "10 * 2= 20 10100\n",
            "10 / 2= 5 101\n"
          ],
          "name": "stdout"
        }
      ]
    },
    {
      "cell_type": "code",
      "metadata": {
        "trusted": false,
        "id": "2QV1wgNYuChQ",
        "colab_type": "code",
        "outputId": "3f2bb8cd-bd9b-4405-c564-7839e177114c",
        "colab": {
          "base_uri": "https://localhost:8080/",
          "height": 68
        }
      },
      "source": [
        "# logical\n",
        "x = True\n",
        "y = False\n",
        "print('x and y is',x and y) # Output: x and y is False\n",
        "print('x or y is',x or y) # Output: x or y is True\n",
        "print('not x is',not x) # Output: not x is False"
      ],
      "execution_count": 20,
      "outputs": [
        {
          "output_type": "stream",
          "text": [
            "x and y is False\n",
            "x or y is True\n",
            "not x is False\n"
          ],
          "name": "stdout"
        }
      ]
    },
    {
      "cell_type": "code",
      "metadata": {
        "trusted": false,
        "id": "Az6UaXmPuChV",
        "colab_type": "code",
        "outputId": "b6fc5d0f-3e8b-4ab6-d81c-572521aef8e3",
        "colab": {
          "base_uri": "https://localhost:8080/",
          "height": 68
        }
      },
      "source": [
        "# bitwise\n",
        "x=10 \n",
        "y=4\n",
        "print(x & y) \n",
        "print(x | y)\n",
        "print(x ^ y)"
      ],
      "execution_count": 21,
      "outputs": [
        {
          "output_type": "stream",
          "text": [
            "0\n",
            "14\n",
            "14\n"
          ],
          "name": "stdout"
        }
      ]
    },
    {
      "cell_type": "code",
      "metadata": {
        "trusted": false,
        "id": "fHdeM7hKuCha",
        "colab_type": "code",
        "outputId": "e12c0da1-a1b5-49ef-9911-e2daa28975ff",
        "colab": {
          "base_uri": "https://localhost:8080/",
          "height": 51
        }
      },
      "source": [
        "# in and not in\n",
        "\n",
        "x = 'Hello world'\n",
        "print('j' in x)    # Output: True\n",
        "print('h' not in x)   # Output: True"
      ],
      "execution_count": 22,
      "outputs": [
        {
          "output_type": "stream",
          "text": [
            "False\n",
            "True\n"
          ],
          "name": "stdout"
        }
      ]
    },
    {
      "cell_type": "code",
      "metadata": {
        "trusted": false,
        "id": "SD083I1euChe",
        "colab_type": "code",
        "outputId": "bbaaf4ce-fd35-4b56-9e23-34d26ba701bb",
        "colab": {
          "base_uri": "https://localhost:8080/",
          "height": 85
        }
      },
      "source": [
        "# perform operations on complex numbers\n",
        "\n",
        "import cmath\n",
        "a=complex(20+7j)\n",
        "b=complex(5+3j)\n",
        "print('a+b',a+b)\n",
        "print('a-b',a-b)\n",
        "print('a*b',a*b)\n",
        "print('a/b',a/b)"
      ],
      "execution_count": 6,
      "outputs": [
        {
          "output_type": "stream",
          "text": [
            "a+b (25+10j)\n",
            "a-b (15+4j)\n",
            "a*b (79+95j)\n",
            "a/b (3.5588235294117645-0.7352941176470589j)\n"
          ],
          "name": "stdout"
        }
      ]
    },
    {
      "cell_type": "code",
      "metadata": {
        "id": "vvnJBOLewPRn",
        "colab_type": "code",
        "colab": {}
      },
      "source": [
        ""
      ],
      "execution_count": 0,
      "outputs": []
    },
    {
      "cell_type": "markdown",
      "metadata": {
        "id": "Ks4llkCxuChj",
        "colab_type": "text"
      },
      "source": [
        "### Task1 Write a program in python to calculate area of triangle when all three sides are given.\n",
        "- s=(a+b+c)/2\n",
        "- area =  √(s(s-a)(s-b)(s-c) )"
      ]
    },
    {
      "cell_type": "code",
      "metadata": {
        "trusted": false,
        "id": "WulnhHhpuChl",
        "colab_type": "code",
        "outputId": "fb0cf20d-a683-413a-9998-16df1b7f67ad",
        "colab": {
          "base_uri": "https://localhost:8080/",
          "height": 85
        }
      },
      "source": [
        "# write your code after this line\n",
        "import math\n",
        "length=int(input(\"Enter length of triangle\"))\n",
        "breadth=int(input(\"Enter Breadth of triangle\"))\n",
        "height=int(input(\"Enter height of triangle\"))\n",
        "s=(length+breadth+height)/2\n",
        "area=(s*(s-height)*(s-length)*(s-breadth))\n",
        "m=abs(area)\n",
        "areaf=math.sqrt(m)\n",
        "print(areaf)"
      ],
      "execution_count": 8,
      "outputs": [
        {
          "output_type": "stream",
          "text": [
            "Enter length of triangle5\n",
            "Enter Breadth of triangle8\n",
            "Enter height of triangle6\n",
            "14.981238266578634\n"
          ],
          "name": "stdout"
        }
      ]
    },
    {
      "cell_type": "markdown",
      "metadata": {
        "id": "J-WVeW51uChr",
        "colab_type": "text"
      },
      "source": [
        "# Control Statements"
      ]
    },
    {
      "cell_type": "markdown",
      "metadata": {
        "id": "OsmF1j5wuChs",
        "colab_type": "text"
      },
      "source": [
        "### Decisions (if-else)"
      ]
    },
    {
      "cell_type": "markdown",
      "metadata": {
        "id": "f48xY3pmuChu",
        "colab_type": "raw"
      },
      "source": [
        "# simple if-else\n",
        "if(cond):\n",
        "    stmt\n",
        "else:\n",
        "    stmt"
      ]
    },
    {
      "cell_type": "markdown",
      "metadata": {
        "id": "fL6cU4vTuChv",
        "colab_type": "raw"
      },
      "source": [
        "# if-else-if\n",
        "if(cond):\n",
        "    stmt\n",
        "elif(cond):\n",
        "    stmt\n",
        "    .\n",
        "    .\n",
        "    .\n",
        "else: \n",
        "    stmt"
      ]
    },
    {
      "cell_type": "markdown",
      "metadata": {
        "id": "qDbMSLPWuChx",
        "colab_type": "raw"
      },
      "source": [
        "# nested if-else\n",
        "                            if(cond):\n",
        "                                stmt\n",
        "                                if(cond):\n",
        "                                    stmt1\n",
        "                            else:\n",
        "                                if(cond):\n",
        "                                    stmt3\n",
        "                                else:\n",
        "                                    stmt4"
      ]
    },
    {
      "cell_type": "markdown",
      "metadata": {
        "heading_collapsed": true,
        "id": "osB-_kdfuChz",
        "colab_type": "text"
      },
      "source": [
        "### Task2: Write a proram that accept a lowercase/uppercase character from the user and check whether the character is a vowel or consonant."
      ]
    },
    {
      "cell_type": "code",
      "metadata": {
        "hidden": true,
        "trusted": false,
        "id": "ER1s9HLLuCh1",
        "colab_type": "code",
        "outputId": "8c6004f0-5d83-4965-be0c-1c9f5ff4e64a",
        "colab": {
          "base_uri": "https://localhost:8080/",
          "height": 51
        }
      },
      "source": [
        "# write your code after this line\n",
        "ch=input(\"Enter a letter: \")\n",
        "if(ch == 'a' or ch == 'e' or ch == 'i' or ch == 'o' or ch == 'u' or ch == 'A'\n",
        "       or ch == 'E' or ch == 'I' or ch == 'O' or ch == 'U'):\n",
        "  print(\"Character entered is Vowel \")\n",
        "else:\n",
        "  print(\"Character is consonant \")\n"
      ],
      "execution_count": 9,
      "outputs": [
        {
          "output_type": "stream",
          "text": [
            "Enter a letter k\n",
            "Character is consonant \n"
          ],
          "name": "stdout"
        }
      ]
    },
    {
      "cell_type": "markdown",
      "metadata": {
        "heading_collapsed": true,
        "id": "K78UkrbLuCh9",
        "colab_type": "text"
      },
      "source": [
        "### Task3: Write a program to check whether given character is a digit or a character in lowercase or uppercase alphabet. Hint: ASCII value of digit is between 48 to 58 and Lowercase characters in the range of 97 to122, uppercase is between 65 and 90)."
      ]
    },
    {
      "cell_type": "code",
      "metadata": {
        "hidden": true,
        "trusted": false,
        "id": "ECZGi0hruCh-",
        "colab_type": "code",
        "outputId": "e089fe4e-d803-4dfa-e8f8-b4f05b6dd44d",
        "colab": {
          "base_uri": "https://localhost:8080/",
          "height": 51
        }
      },
      "source": [
        "# write your code after this line\n",
        "ch=input(\"Enter a digit(ASCII) or character: \") \n",
        "if (ch>='48' and ch<='58'):\n",
        "  print(\"It's a digit\")\n",
        "if(ch>='97' and ch<='122'):\n",
        "  print(\"Character is lowercase\")\n",
        "if(ch>='65' and ch<='90'):\n",
        "  print(\"Character is uppercase\")"
      ],
      "execution_count": 10,
      "outputs": [
        {
          "output_type": "stream",
          "text": [
            "Enter a digit(ASCII) or character: 88\n",
            "Character is uppercase\n"
          ],
          "name": "stdout"
        }
      ]
    },
    {
      "cell_type": "markdown",
      "metadata": {
        "id": "4vS2xTXOuCiC",
        "colab_type": "text"
      },
      "source": [
        "### Repetition or loop\n",
        "- while loop\n",
        "- for loop"
      ]
    },
    {
      "cell_type": "markdown",
      "metadata": {
        "id": "10zY80T_uCiD",
        "colab_type": "text"
      },
      "source": [
        "#### While loop"
      ]
    },
    {
      "cell_type": "markdown",
      "metadata": {
        "id": "aLy4RdvpuCiE",
        "colab_type": "raw"
      },
      "source": [
        "initialization of loop variable\n",
        "while( condition ):\n",
        "    stmt 1\n",
        "    stmt 2\n",
        "    ...\n",
        "    update loop variable"
      ]
    },
    {
      "cell_type": "markdown",
      "metadata": {
        "id": "ZZJYEIcluCiF",
        "colab_type": "text"
      },
      "source": [
        "##### Task 4: Write a program in Python to print table of any number 'n' provided by user using while loop."
      ]
    },
    {
      "cell_type": "code",
      "metadata": {
        "trusted": false,
        "id": "TrTjzgI_uCiH",
        "colab_type": "code",
        "outputId": "46269102-59e1-476d-c690-df9aac35ae82",
        "colab": {
          "base_uri": "https://localhost:8080/",
          "height": 204
        }
      },
      "source": [
        "# write your code after this line\n",
        "n = int(input(\"Enter any number : \"))\n",
        "for i in range(1, 11):\n",
        "  print(n,\" x \", i, \" = \", n*i)"
      ],
      "execution_count": 11,
      "outputs": [
        {
          "output_type": "stream",
          "text": [
            "Enter any number : 7\n",
            "7  x  1  =  7\n",
            "7  x  2  =  14\n",
            "7  x  3  =  21\n",
            "7  x  4  =  28\n",
            "7  x  5  =  35\n",
            "7  x  6  =  42\n",
            "7  x  7  =  49\n",
            "7  x  8  =  56\n",
            "7  x  9  =  63\n",
            "7  x  10  =  70\n"
          ],
          "name": "stdout"
        }
      ]
    },
    {
      "cell_type": "code",
      "metadata": {
        "id": "eX3FACE1yh7t",
        "colab_type": "code",
        "colab": {}
      },
      "source": [
        "\n"
      ],
      "execution_count": 0,
      "outputs": []
    },
    {
      "cell_type": "markdown",
      "metadata": {
        "id": "ae_w6RcmuCiM",
        "colab_type": "text"
      },
      "source": [
        "##### Task 5: Write a program in Python to evaluate the following series using while loop:\n",
        "    \n",
        "    1! + 2! + 3! + 4! ...+ n!\n",
        "hint: use math.factorial(n) function to calculate factorial of number n."
      ]
    },
    {
      "cell_type": "code",
      "metadata": {
        "id": "H-elUTwK0EDf",
        "colab_type": "code",
        "outputId": "f4ccafed-f435-4cf3-b9eb-d34e23556bf8",
        "colab": {
          "base_uri": "https://localhost:8080/",
          "height": 51
        }
      },
      "source": [
        "import math\n",
        "Sum=0\n",
        "j=int(input(\"enter any number:\"))\n",
        "for i in range(1,j+1):\n",
        "  fact=math.factorial(i)\n",
        "  Sum += fact\n",
        "  \n",
        "print(\"sum of series is:\", Sum)"
      ],
      "execution_count": 0,
      "outputs": [
        {
          "output_type": "stream",
          "text": [
            "enter any number:45\n",
            "sum of series is: 122342346998826717539665299944651784048588130840420940313\n"
          ],
          "name": "stdout"
        }
      ]
    },
    {
      "cell_type": "code",
      "metadata": {
        "id": "-cI5IgpDyuBV",
        "colab_type": "code",
        "colab": {
          "base_uri": "https://localhost:8080/",
          "height": 51
        },
        "outputId": "1473c621-51f3-4782-8fe5-d6dcabfdd888"
      },
      "source": [
        "import math\n",
        "sum=0\n",
        "x=int(input(\"enter the total terms in series:\"))\n",
        "for i in range(1,x+1):\n",
        "  fct=math.factorial(i)\n",
        "  sum+=fct\n",
        "print(\"sum of series is:\",sum) "
      ],
      "execution_count": 13,
      "outputs": [
        {
          "output_type": "stream",
          "text": [
            "enter the total terms in series:5\n",
            "sum of series is: 153\n"
          ],
          "name": "stdout"
        }
      ]
    },
    {
      "cell_type": "code",
      "metadata": {
        "trusted": false,
        "id": "Zrgd8MX1uCiO",
        "colab_type": "code",
        "outputId": "c8e801f1-a4dd-4352-e32f-d6f3726c38d3",
        "colab": {
          "base_uri": "https://localhost:8080/",
          "height": 51
        }
      },
      "source": [
        "# write your code after this line\n",
        "n, fact = int(input(\"Enter the number : \")), 1\n",
        "for i in range(1,n+1):\n",
        "  fact *= i\n",
        "print(\"Factorial        :\",fact)"
      ],
      "execution_count": 19,
      "outputs": [
        {
          "output_type": "stream",
          "text": [
            "Enter the number : 5\n",
            "Factorial        : 120\n"
          ],
          "name": "stdout"
        }
      ]
    },
    {
      "cell_type": "markdown",
      "metadata": {
        "id": "eeXNvxy8uCiU",
        "colab_type": "text"
      },
      "source": [
        "##### Task 6: Write a program in Python to enter the numbers till the user wants and at the end it should display the maximum number entered using while loop."
      ]
    },
    {
      "cell_type": "code",
      "metadata": {
        "trusted": false,
        "id": "Mwecmh1ZuCiV",
        "colab_type": "code",
        "outputId": "342cd8a8-53ee-4f2a-a0e9-3d5ebdd1440e",
        "colab": {
          "base_uri": "https://localhost:8080/",
          "height": 68
        }
      },
      "source": [
        "# write your code after this line\n",
        "check, l = 'Y', []\n",
        "while(check == 'Y' or check == 'y'):\n",
        "  n = int(input(\"Enter the number : \"))\n",
        "  l.append(n)\n",
        "  check = input(\"Do you want to enter more numbers??(Y/N) : \")\n",
        "  if check == 'N' or check == 'n':\n",
        "    break\n",
        "\n",
        "print(\"Maximum number :\", max(l))"
      ],
      "execution_count": 18,
      "outputs": [
        {
          "output_type": "stream",
          "text": [
            "Enter the number : 6\n",
            "Do you want to enter more numbers??(Y/N) : n\n",
            "Maximum number : 6\n"
          ],
          "name": "stdout"
        }
      ]
    },
    {
      "cell_type": "markdown",
      "metadata": {
        "id": "1NEdGg9SuCiZ",
        "colab_type": "text"
      },
      "source": [
        "### for loop"
      ]
    },
    {
      "cell_type": "markdown",
      "metadata": {
        "id": "Ui3_CBMguCia",
        "colab_type": "raw"
      },
      "source": [
        "for iterable_var_name in range(terminating_value):\n",
        "    stmt 1\n",
        "    stmt 2\n",
        "    ...\n",
        "    \n",
        " for iterable_var_name in range(initial_value,terminating_value):\n",
        "    stmt 1\n",
        "    stmt 2\n",
        "    ...\n",
        "    \n",
        " for iterable_var_name in range(initial_value,terminating_value,updation):\n",
        "    stmt 1\n",
        "    stmt 2\n",
        "    ..."
      ]
    },
    {
      "cell_type": "code",
      "metadata": {
        "trusted": false,
        "id": "gKDSJNtVuCib",
        "colab_type": "code",
        "outputId": "bf95c393-0281-41b5-9b28-a5c07b7e56ab",
        "colab": {
          "base_uri": "https://localhost:8080/",
          "height": 51
        }
      },
      "source": [
        "# factorial\n",
        "n=int(input('Enter a number '))\n",
        "fact=1\n",
        "for i in range(n,1,-1):\n",
        "    fact=fact*i\n",
        "print(n,'! =',fact)"
      ],
      "execution_count": 17,
      "outputs": [
        {
          "output_type": "stream",
          "text": [
            "Enter a number 7\n",
            "7 ! = 5040\n"
          ],
          "name": "stdout"
        }
      ]
    },
    {
      "cell_type": "markdown",
      "metadata": {
        "id": "tPc22JJGuCif",
        "colab_type": "text"
      },
      "source": [
        "##### Task 7:Write a program in Python to print all numbers from 0 to 9 except 3 and 6 using a for loop. \n"
      ]
    },
    {
      "cell_type": "code",
      "metadata": {
        "trusted": false,
        "id": "y1ikCkQvuCig",
        "colab_type": "code",
        "outputId": "20ed4e42-4f86-4234-ba03-f98b7b63239b",
        "colab": {
          "base_uri": "https://localhost:8080/",
          "height": 153
        }
      },
      "source": [
        "# write your code after this line\n",
        "for i in range(0, 10):\n",
        "  if i == 3 or i == 6:\n",
        "    continue\n",
        "  else:\n",
        "    print(\"Number :\", i)"
      ],
      "execution_count": 16,
      "outputs": [
        {
          "output_type": "stream",
          "text": [
            "Number : 0\n",
            "Number : 1\n",
            "Number : 2\n",
            "Number : 4\n",
            "Number : 5\n",
            "Number : 7\n",
            "Number : 8\n",
            "Number : 9\n"
          ],
          "name": "stdout"
        }
      ]
    },
    {
      "cell_type": "markdown",
      "metadata": {
        "id": "e1v7v-l6uCik",
        "colab_type": "text"
      },
      "source": [
        "#### 2 Write a program in Python to get 10 numbers from user using a for loop. The program should print the count of positive numbers, negative numbers and zeroes entered by the user."
      ]
    },
    {
      "cell_type": "code",
      "metadata": {
        "trusted": false,
        "id": "ivTl5evQuCiq",
        "colab_type": "code",
        "outputId": "3be6207f-1c50-489a-883a-0ce71684a7de",
        "colab": {
          "base_uri": "https://localhost:8080/",
          "height": 238
        }
      },
      "source": [
        "pos, neg, zero = 0, 0, 0\n",
        "for i in range(10):\n",
        "  n = int(input(\"Enter the number : \"))\n",
        "  if n == 0:\n",
        "    zero += 1\n",
        "  elif n < 0:\n",
        "    neg += 1\n",
        "  else:\n",
        "    pos += 1\n",
        "print(\"Negative :\", neg, \"\\nPositive :\", pos, \"\\nZero :\", zero)"
      ],
      "execution_count": 15,
      "outputs": [
        {
          "output_type": "stream",
          "text": [
            "Enter the number : 5\n",
            "Enter the number : 6\n",
            "Enter the number : 7\n",
            "Enter the number : 0\n",
            "Enter the number : 8\n",
            "Enter the number : 9\n",
            "Enter the number : 10\n",
            "Enter the number : -2\n",
            "Enter the number : -3\n",
            "Enter the number : -4\n",
            "Negative : 3 \n",
            "Positive : 6 \n",
            "Zero : 1\n"
          ],
          "name": "stdout"
        }
      ]
    }
  ]
}